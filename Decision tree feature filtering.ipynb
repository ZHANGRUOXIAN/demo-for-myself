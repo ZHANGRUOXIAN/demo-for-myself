{
 "cells": [
  {
   "cell_type": "code",
   "execution_count": 7,
   "metadata": {},
   "outputs": [
    {
     "name": "stdout",
     "output_type": "stream",
     "text": [
      "474\n"
     ]
    }
   ],
   "source": [
    "# 导入 pandas 并且更名为 pd。\n",
    "import pandas as pd\n",
    "# 从互联网读取 titanic 数据。\n",
    "titanic = pd.read_csv('titanic.csv')\n",
    "# 分离数据特征与预测目标。\n",
    "y = titanic['survived']\n",
    "X = titanic.drop(['row.names', 'name', 'survived'], axis = 1)\n",
    "# 对对缺失数据进行填充。\n",
    "X['age'].fillna(X['age'].mean(), inplace=True)\n",
    "X.fillna('UNKNOWN', inplace=True)\n",
    "\n",
    "# 分割数据，依然采样 25% 用于测试。\n",
    "from sklearn.model_selection import train_test_split\n",
    "X_train, X_test, y_train, y_test = train_test_split(X, y, test_size=0.25, random_state=33)\n",
    "# 类别型特征向量化。\n",
    "from sklearn.feature_extraction import DictVectorizer\n",
    "vec = DictVectorizer()\n",
    "X_train = vec.fit_transform(X_train.to_dict(orient='record'))\n",
    "X_test = vec.transform(X_test.to_dict(orient='record'))\n",
    "# 输出处理后特征向量的维度。\n",
    "print(len(vec.feature_names_))"
   ]
  },
  {
   "cell_type": "code",
   "execution_count": 8,
   "metadata": {},
   "outputs": [
    {
     "data": {
      "text/plain": [
       "0.8145896656534954"
      ]
     },
     "execution_count": 8,
     "metadata": {},
     "output_type": "execute_result"
    }
   ],
   "source": [
    "# 使用决策树模型依靠所有特征进行预测，并作性能评估。\n",
    "from sklearn.tree import DecisionTreeClassifier\n",
    "dt = DecisionTreeClassifier(criterion='entropy')\n",
    "dt.fit(X_train, y_train)\n",
    "dt.score(X_test, y_test)"
   ]
  },
  {
   "cell_type": "code",
   "execution_count": 9,
   "metadata": {},
   "outputs": [
    {
     "data": {
      "text/plain": [
       "0.8237082066869301"
      ]
     },
     "execution_count": 9,
     "metadata": {},
     "output_type": "execute_result"
    }
   ],
   "source": [
    "# 从 sklearn 导入特征筛选器。\n",
    "from sklearn import feature_selection\n",
    "# 筛选前 20% 的特征，使用相同配置的决策树模型进行预测，并且评估性能。\n",
    "fs = feature_selection.SelectPercentile(feature_selection.chi2, percentile=20)\n",
    "X_train_fs = fs.fit_transform(X_train, y_train)\n",
    "dt.fit(X_train_fs, y_train)\n",
    "X_test_fs = fs.transform(X_test)\n",
    "dt.score(X_test_fs, y_test)"
   ]
  },
  {
   "cell_type": "code",
   "execution_count": 10,
   "metadata": {},
   "outputs": [
    {
     "name": "stdout",
     "output_type": "stream",
     "text": [
      "[0.85064229 0.85673884 0.87502849 0.88621154 0.86686522 0.86381954\n",
      " 0.86584999 0.86483477 0.8668704  0.86788563 0.86890604 0.86991609\n",
      " 0.8668704  0.86484513 0.86483995 0.86788563 0.86585517 0.86687558\n",
      " 0.86585517 0.86281985 0.8668704  0.8597638  0.86992645 0.86991609\n",
      " 0.86382472 0.86688076 0.87094686 0.8689164  0.87196208 0.86790117\n",
      " 0.87094686 0.86586035 0.87095204 0.86992645 0.86993163 0.86483995\n",
      " 0.87298767 0.87298249 0.87500777 0.87196726 0.8719569  0.86282503\n",
      " 0.86485031 0.86383508 0.86587071 0.86384026 0.8597638  0.86179944\n",
      " 0.8567233  0.86688594]\n",
      "Optimal number of features 7\n"
     ]
    }
   ],
   "source": [
    "# 通过交叉验证（下一节将详细介绍）的方法，按照固定间隔的百分比筛选特征，并作图展示性能随特征筛选比例的变化。\n",
    "from sklearn.model_selection import cross_val_score\n",
    "import numpy as np\n",
    "percentiles = range(1, 100, 2)\n",
    "results = []\n",
    "for i in percentiles:\n",
    "    fs = feature_selection.SelectPercentile(feature_selection.chi2, percentile = i)\n",
    "    X_train_fs = fs.fit_transform(X_train, y_train)\n",
    "    scores = cross_val_score(dt, X_train_fs, y_train, cv=5)\n",
    "    results = np.append(results, scores.mean())\n",
    "print(results)\n",
    "# 找到体现最佳性能的特征筛选的百分比。\n",
    "opt = np.where(results == results.max())[0]\n",
    "print('Optimal number of features %d' %percentiles[int(opt)])"
   ]
  },
  {
   "cell_type": "code",
   "execution_count": 11,
   "metadata": {},
   "outputs": [
    {
     "data": {
      "image/png": "[encoded data removed]",
      "text/plain": [
       "<Figure size 432x288 with 1 Axes>"
      ]
     },
     "metadata": {
      "needs_background": "light"
     },
     "output_type": "display_data"
    }
   ],
   "source": [
    "import pylab as pl\n",
    "pl.plot(percentiles, results)\n",
    "pl.xlabel('percentiles of features')\n",
    "pl.ylabel('accuracy')\n",
    "pl.show()"
   ]
  },
  {
   "cell_type": "code",
   "execution_count": 12,
   "metadata": {},
   "outputs": [
    {
     "data": {
      "text/plain": [
       "0.8571428571428571"
      ]
     },
     "execution_count": 12,
     "metadata": {},
     "output_type": "execute_result"
    }
   ],
   "source": [
    "# 使用最佳筛选后的特征，利用相同配置的模型在测试集上进行性能评估。\n",
    "from sklearn import feature_selection\n",
    "fs = feature_selection.SelectPercentile(feature_selection.chi2, percentile=7)\n",
    "X_train_fs = fs.fit_transform(X_train, y_train)\n",
    "dt.fit(X_train_fs, y_train)\n",
    "X_test_fs = fs.transform(X_test)\n",
    "dt.score(X_test_fs, y_test)"
   ]
  },
  {
   "cell_type": "code",
   "execution_count": null,
   "metadata": {},
   "outputs": [],
   "source": []
  }
 ],
 "metadata": {
  "kernelspec": {
   "display_name": "Python 3",
   "language": "python",
   "name": "python3"
  },
  "language_info": {
   "codemirror_mode": {
    "name": "ipython",
    "version": 3
   },
   "file_extension": ".py",
   "mimetype": "text/x-python",
   "name": "python",
   "nbconvert_exporter": "python",
   "pygments_lexer": "ipython3",
   "version": "3.7.8"
  }
 },
 "nbformat": 4,
 "nbformat_minor": 4
}
