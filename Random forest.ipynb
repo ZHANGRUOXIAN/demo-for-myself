{
 "cells": [
  {
   "cell_type": "code",
   "execution_count": 25,
   "metadata": {},
   "outputs": [],
   "source": [
    "#随机森林分类\n",
    "from sklearn.datasets import load_iris\n",
    "from sklearn.datasets import make_blobs\n",
    "from sklearn.ensemble import RandomForestClassifier\n",
    "from sklearn import metrics\n",
    "import pandas as pd\n",
    "import numpy as np\n",
    "import matplotlib.pyplot as plt"
   ]
  },
  {
   "cell_type": "code",
   "execution_count": 26,
   "metadata": {},
   "outputs": [],
   "source": [
    "#聚类数据生成器，可创造100个类1000个样本，每个样本10个特征\n",
    "X,y = make_blobs(n_samples = 1000,n_features = 10,centers = 100,random_state = 0)"
   ]
  },
  {
   "cell_type": "code",
   "execution_count": 27,
   "metadata": {},
   "outputs": [
    {
     "name": "stdout",
     "output_type": "stream",
     "text": [
      "(150,)\n"
     ]
    }
   ],
   "source": [
    "#燕尾花数据集\n",
    "iris  = load_iris()\n",
    "print(iris['target'].shape)"
   ]
  },
  {
   "cell_type": "code",
   "execution_count": null,
   "metadata": {},
   "outputs": [],
   "source": [
    "\n"
   ]
  },
  {
   "cell_type": "code",
   "execution_count": 28,
   "metadata": {},
   "outputs": [
    {
     "data": {
      "text/plain": [
       "RandomForestClassifier(bootstrap=True, ccp_alpha=0.0, class_weight=None,\n",
       "                       criterion='gini', max_depth=None, max_features='auto',\n",
       "                       max_leaf_nodes=None, max_samples=None,\n",
       "                       min_impurity_decrease=0.0, min_impurity_split=None,\n",
       "                       min_samples_leaf=1, min_samples_split=3,\n",
       "                       min_weight_fraction_leaf=0.0, n_estimators=10,\n",
       "                       n_jobs=None, oob_score=False, random_state=0, verbose=0,\n",
       "                       warm_start=False)"
      ]
     },
     "execution_count": 28,
     "metadata": {},
     "output_type": "execute_result"
    }
   ],
   "source": [
    "#随机森林分类器\n",
    "rf1 = RandomForestClassifier() #默认参数\n",
    "rf2 = RandomForestClassifier(n_estimators = 10,max_depth= None,min_samples_split=3,random_state = 0)\n",
    "rf1.fit(iris.data[:130],iris.target[:130])\n",
    "rf2.fit(iris.data[:130],iris.target[:130])\n"
   ]
  },
  {
   "cell_type": "code",
   "execution_count": 29,
   "metadata": {},
   "outputs": [],
   "source": [
    "testset = iris.data[131:150]\n",
    "y_true = iris.target[131:150]"
   ]
  },
  {
   "cell_type": "code",
   "execution_count": 30,
   "metadata": {},
   "outputs": [
    {
     "data": {
      "text/plain": [
       "(19, 4)"
      ]
     },
     "execution_count": 30,
     "metadata": {},
     "output_type": "execute_result"
    }
   ],
   "source": [
    "testset.shape"
   ]
  },
  {
   "cell_type": "code",
   "execution_count": 31,
   "metadata": {},
   "outputs": [
    {
     "name": "stdout",
     "output_type": "stream",
     "text": [
      "rf1 prediction: [2 2 1 1 2 2 2 2 2 2 2 2 2 2 2 2 2 2 2]\n",
      "rf2 prediction: [2 2 1 2 2 2 2 2 2 2 2 2 2 2 2 2 2 2 2]\n"
     ]
    }
   ],
   "source": [
    "y_pre1 = rf1.predict(testset)\n",
    "y_pre2 = rf2.predict(testset)\n",
    "print('rf1 prediction:',y_pre1)\n",
    "print('rf2 prediction:',y_pre2)"
   ]
  },
  {
   "cell_type": "code",
   "execution_count": 34,
   "metadata": {},
   "outputs": [
    {
     "name": "stdout",
     "output_type": "stream",
     "text": [
      "MSE1: 0.1053\n",
      "MSE2: 0.0526\n"
     ]
    }
   ],
   "source": [
    "#判断分类的一个参数\n",
    "mse1 = metrics.mean_squared_error(y_true,y_pre1)\n",
    "mse2 = metrics.mean_squared_error(y_true,y_pre2)\n",
    "print('MSE1: %.4f' % mse1)\n",
    "print('MSE2: %.4f' % mse2)"
   ]
  },
  {
   "cell_type": "code",
   "execution_count": 35,
   "metadata": {},
   "outputs": [
    {
     "name": "stdout",
     "output_type": "stream",
     "text": [
      "[ 23.35633776   5.91357632  66.20339254 100.        ]\n"
     ]
    }
   ],
   "source": [
    "feature_importance = rf2.feature_importances_\n",
    "# make importances relative to max importance\n",
    "feature_importance = 100.0 *(feature_importance / feature_importance.max())\n",
    "print(feature_importance)"
   ]
  },
  {
   "cell_type": "code",
   "execution_count": 36,
   "metadata": {},
   "outputs": [
    {
     "data": {
      "image/png": "[encoded data removed]",
      "text/plain": [
       "<Figure size 432x288 with 1 Axes>"
      ]
     },
     "metadata": {
      "needs_background": "light"
     },
     "output_type": "display_data"
    }
   ],
   "source": [
    "#plot graph of feature importance for better visualization\n",
    "feat_importances = pd.Series(rf1.feature_importances_,index = pd.DataFrame(iris.data).columns)\n",
    "feat_importances.nlargest(5).plot(kind = 'barh')\n",
    "plt.title('Variable Importance')\n",
    "plt.xlabel('Relative Importance')\n",
    "plt.show()"
   ]
  },
  {
   "cell_type": "code",
   "execution_count": null,
   "metadata": {},
   "outputs": [],
   "source": []
  }
 ],
 "metadata": {
  "kernelspec": {
   "display_name": "Python 3",
   "language": "python",
   "name": "python3"
  },
  "language_info": {
   "codemirror_mode": {
    "name": "ipython",
    "version": 3
   },
   "file_extension": ".py",
   "mimetype": "text/x-python",
   "name": "python",
   "nbconvert_exporter": "python",
   "pygments_lexer": "ipython3",
   "version": "3.7.8"
  }
 },
 "nbformat": 4,
 "nbformat_minor": 4
}
